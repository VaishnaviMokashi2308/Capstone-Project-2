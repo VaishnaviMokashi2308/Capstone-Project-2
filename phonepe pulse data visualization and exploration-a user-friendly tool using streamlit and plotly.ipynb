{
 "cells": [
  {
   "cell_type": "markdown",
   "id": "34fed361",
   "metadata": {},
   "source": [
    "# phonepe pulse data visualization and exploration: a user-friendly tool using streamlit and plotly"
   ]
  },
  {
   "cell_type": "code",
   "execution_count": 3,
   "id": "1ec33b0a",
   "metadata": {},
   "outputs": [],
   "source": [
    "import os\n",
    "from os import walk\n",
    "from pathlib import Path\n",
    "import pandas as pd"
   ]
  },
  {
   "cell_type": "code",
   "execution_count": 4,
   "id": "ec51017d",
   "metadata": {},
   "outputs": [],
   "source": [
    "Data_Aggregated_Transaction_Table = pd.DataFrame({}) \n",
    "Data_Aggregated_Transaction_Summary_Table = pd.DataFrame({}) "
   ]
  },
  {
   "cell_type": "code",
   "execution_count": 5,
   "id": "921c804b",
   "metadata": {},
   "outputs": [],
   "source": [
    "def Aggregated_Transaction_Table_fun(state,year,quarter,path):\n",
    "    global Data_Aggregated_Transaction_Table\n",
    "    global Data_Aggregated_Transaction_Summary_Table\n",
    "    dft = pd.read_json(path)\n",
    "    \n",
    "    dataFrom=dft['data']['from']\n",
    "    dataTo=dft['data']['to'] \n",
    "    T_row={'State':state,'Year': year,'Quarter':quarter,'Data From':dataFrom,'Data To':dataTo}\n",
    "    Data_Aggregated_Transaction_Summary_Table=Data_Aggregated_Transaction_Summary_Table.append(T_row,ignore_index = True)\n",
    "    \n",
    "    DAT_temp=dft['data']['transactionData']\n",
    "    if DAT_temp:      \n",
    "        for i in DAT_temp:\n",
    "            DAT_row={ 'Payment Mode':i['name'], 'Total Transactions count':i['paymentInstruments'][0]['count'], 'Total Amount':i['paymentInstruments'][0]['amount'],'Quarter':quarter,'Year': year,'State':state}  \n",
    "            Data_Aggregated_Transaction_Table = Data_Aggregated_Transaction_Table.append(DAT_row, ignore_index = True)\n",
    "            \n",
    "            \n",
    "    # PATH FOR ALL STATES IN AGGREGATED TRANSACTIONS\n",
    "t_s= r'C:\\Users\\91939\\2MY_DATA_SCIENCE\\12_My_DS_Tasks\\project2_Phonepay\\data\\aggregated\\transaction\\country\\india\\state'\n",
    "t_path = r'C:\\Users\\91939\\2MY_DATA_SCIENCE\\12_My_DS_Tasks\\project2_Phonepay\\data\\aggregated\\transaction\\country\\india\\state'\n",
    "t_states = os.listdir(t_path) # NAMES OF ALL DIRECTORIES IN STATES (36 STATES)\n",
    "\n",
    "for i in t_states:                     # ITERATE ALL STATES\n",
    "    #print(i)\n",
    "    p=t_s+'\\\\'+i                       # PICK ONE STATE PATH\n",
    "    states_year=os.listdir(p)          # PICK 2018 TO 2022 DIRECTORIES IN ONE STATE\n",
    "    for j in states_year:              # ITERATE YEARS 2018 TO 2022\n",
    "        #print(j)\n",
    "        pt=p+'\\\\'+j                    # PICK ONE YEAR PATH\n",
    "        f=[]\n",
    "        for (dirpath, dirnames, filenames) in walk(pt):\n",
    "            f.extend(filenames)        # PICK ALL THE QFILES IN SELECTED YEAR \n",
    "            break\n",
    "        for k in f:                    # ITERATE THROUGH QFILES 1.JSON TO 4.JSON\n",
    "            fp=pt+'\\\\'+k               # PICK ONE QFILE PATH\n",
    "            fn=Path(fp).stem           # NOTE DOWN QUARTER\n",
    "            #print(i,j,fn)\n",
    "            Aggregated_Transaction_Table_fun(i,j,fn,fp) # CALL FUNCTION WITH STATE,YEAR,QFILE,QUARTER\n",
    "            #print(fp)         \n",
    "        "
   ]
  },
  {
   "cell_type": "code",
   "execution_count": 7,
   "id": "c3624a3e",
   "metadata": {},
   "outputs": [
    {
     "name": "stdout",
     "output_type": "stream",
     "text": [
      "0\n"
     ]
    },
    {
     "data": {
      "text/html": [
       "<div>\n",
       "<style scoped>\n",
       "    .dataframe tbody tr th:only-of-type {\n",
       "        vertical-align: middle;\n",
       "    }\n",
       "\n",
       "    .dataframe tbody tr th {\n",
       "        vertical-align: top;\n",
       "    }\n",
       "\n",
       "    .dataframe thead th {\n",
       "        text-align: right;\n",
       "    }\n",
       "</style>\n",
       "<table border=\"1\" class=\"dataframe\">\n",
       "  <thead>\n",
       "    <tr style=\"text-align: right;\">\n",
       "      <th></th>\n",
       "    </tr>\n",
       "  </thead>\n",
       "  <tbody>\n",
       "  </tbody>\n",
       "</table>\n",
       "</div>"
      ],
      "text/plain": [
       "Empty DataFrame\n",
       "Columns: []\n",
       "Index: []"
      ]
     },
     "execution_count": 7,
     "metadata": {},
     "output_type": "execute_result"
    }
   ],
   "source": [
    "Data_Aggregated_Transaction_Table.to_csv('Data_Aggregated_Transaction_Table.csv', index=False)  \n",
    "print(len(Data_Aggregated_Transaction_Table))\n",
    "Data_Aggregated_Transaction_Table.head(5)"
   ]
  },
  {
   "cell_type": "code",
   "execution_count": 8,
   "id": "0a034975",
   "metadata": {},
   "outputs": [
    {
     "name": "stdout",
     "output_type": "stream",
     "text": [
      "0\n"
     ]
    },
    {
     "data": {
      "text/html": [
       "<div>\n",
       "<style scoped>\n",
       "    .dataframe tbody tr th:only-of-type {\n",
       "        vertical-align: middle;\n",
       "    }\n",
       "\n",
       "    .dataframe tbody tr th {\n",
       "        vertical-align: top;\n",
       "    }\n",
       "\n",
       "    .dataframe thead th {\n",
       "        text-align: right;\n",
       "    }\n",
       "</style>\n",
       "<table border=\"1\" class=\"dataframe\">\n",
       "  <thead>\n",
       "    <tr style=\"text-align: right;\">\n",
       "      <th></th>\n",
       "    </tr>\n",
       "  </thead>\n",
       "  <tbody>\n",
       "  </tbody>\n",
       "</table>\n",
       "</div>"
      ],
      "text/plain": [
       "Empty DataFrame\n",
       "Columns: []\n",
       "Index: []"
      ]
     },
     "execution_count": 8,
     "metadata": {},
     "output_type": "execute_result"
    }
   ],
   "source": [
    "Data_Aggregated_Transaction_Summary_Table.to_csv('Data_Aggregated_Transaction_Summary_Table.csv',index=False)  \n",
    "print(len(Data_Aggregated_Transaction_Summary_Table))\n",
    "Data_Aggregated_Transaction_Summary_Table.head(5)"
   ]
  },
  {
   "cell_type": "code",
   "execution_count": 9,
   "id": "8e82b9a5",
   "metadata": {},
   "outputs": [],
   "source": [
    "Data_Aggregated_User_Table = pd.DataFrame({}) \n",
    "Data_Aggregated_User_Summary_Table = pd.DataFrame({}) "
   ]
  },
  {
   "cell_type": "code",
   "execution_count": 10,
   "id": "227c7033",
   "metadata": {},
   "outputs": [],
   "source": [
    "# INITIALIZATION\n",
    "import os\n",
    "from os import walk\n",
    "from pathlib import Path\n",
    "import pandas as pd\n",
    "\n",
    "def Aggregated_User_Table_fun(state,year,quarter,path):\n",
    "    global Data_Aggregated_User_Table\n",
    "    global Data_Aggregated_User_Summary_Table\n",
    "    dfu = pd.read_json(path)\n",
    "    \n",
    "    registeredUsers=dfu['data']['aggregated']['registeredUsers']\n",
    "    appOpens=dfu['data']['aggregated']['appOpens']\n",
    "    U_row={'State':state,'Year': year,'Quarter':quarter,'Registered Users':registeredUsers,'AppOpenings':appOpens}\n",
    "    Data_Aggregated_User_Summary_Table= Data_Aggregated_User_Summary_Table.append(U_row, ignore_index = True )\n",
    "\n",
    "    DAU_temp=dfu['data']['usersByDevice']\n",
    "    if DAU_temp:  \n",
    "        for i in DAU_temp:\n",
    "            DAU_row={ 'Brand Name':i['brand'], 'Registered Users Count':i['count'], 'Percentage Share of Brand':i['percentage'],'Quarter':quarter,'Year': year,'State':state}  \n",
    "            Data_Aggregated_User_Table = Data_Aggregated_User_Table.append(DAU_row, ignore_index = True)\n",
    "\n",
    "    s= r'C:\\Users\\91939\\2MY_DATA_SCIENCE\\12_My_DS_Tasks\\project2_Phonepay\\data\\aggregated\\user\\country\\india\\state'\n",
    "path = r'C:\\Users\\91939\\2MY_DATA_SCIENCE\\12_My_DS_Tasks\\project2_Phonepay\\data\\aggregated\\user\\country\\india\\state'\n",
    "states = os.listdir(u_path)\n",
    "\n",
    "for i in states:\n",
    "    #print(i)\n",
    "    p=s+'\\\\'+i\n",
    "    states_year=os.listdir(p)\n",
    "    for j in states_year:\n",
    "        #print(j)\n",
    "        pt=p+'\\\\'+j\n",
    "        f=[]\n",
    "        for (dirpath, dirnames, filenames) in walk(pt):\n",
    "            f.extend(filenames)\n",
    "            break\n",
    "        for k in f:\n",
    "            fp=pt+'\\\\'+k            \n",
    "            fn=Path(fp).stem\n",
    "            #print(i,j,fn)\n",
    "            Aggregated_User_Table_fun(i,j,fn,fp)\n",
    "            #print(fp)          "
   ]
  },
  {
   "cell_type": "code",
   "execution_count": 11,
   "id": "04c7023c",
   "metadata": {},
   "outputs": [
    {
     "name": "stdout",
     "output_type": "stream",
     "text": [
      "0\n"
     ]
    },
    {
     "data": {
      "text/html": [
       "<div>\n",
       "<style scoped>\n",
       "    .dataframe tbody tr th:only-of-type {\n",
       "        vertical-align: middle;\n",
       "    }\n",
       "\n",
       "    .dataframe tbody tr th {\n",
       "        vertical-align: top;\n",
       "    }\n",
       "\n",
       "    .dataframe thead th {\n",
       "        text-align: right;\n",
       "    }\n",
       "</style>\n",
       "<table border=\"1\" class=\"dataframe\">\n",
       "  <thead>\n",
       "    <tr style=\"text-align: right;\">\n",
       "      <th></th>\n",
       "    </tr>\n",
       "  </thead>\n",
       "  <tbody>\n",
       "  </tbody>\n",
       "</table>\n",
       "</div>"
      ],
      "text/plain": [
       "Empty DataFrame\n",
       "Columns: []\n",
       "Index: []"
      ]
     },
     "execution_count": 11,
     "metadata": {},
     "output_type": "execute_result"
    }
   ],
   "source": [
    "Data_Aggregated_User_Table.to_csv('Data_Aggregated_User_Table.csv',index=False) \n",
    "print(len(Data_Aggregated_User_Table))\n",
    "Data_Aggregated_User_Table.head(5)"
   ]
  },
  {
   "cell_type": "code",
   "execution_count": 12,
   "id": "7a2f8ea7",
   "metadata": {},
   "outputs": [
    {
     "name": "stdout",
     "output_type": "stream",
     "text": [
      "0\n"
     ]
    },
    {
     "data": {
      "text/html": [
       "<div>\n",
       "<style scoped>\n",
       "    .dataframe tbody tr th:only-of-type {\n",
       "        vertical-align: middle;\n",
       "    }\n",
       "\n",
       "    .dataframe tbody tr th {\n",
       "        vertical-align: top;\n",
       "    }\n",
       "\n",
       "    .dataframe thead th {\n",
       "        text-align: right;\n",
       "    }\n",
       "</style>\n",
       "<table border=\"1\" class=\"dataframe\">\n",
       "  <thead>\n",
       "    <tr style=\"text-align: right;\">\n",
       "      <th></th>\n",
       "    </tr>\n",
       "  </thead>\n",
       "  <tbody>\n",
       "  </tbody>\n",
       "</table>\n",
       "</div>"
      ],
      "text/plain": [
       "Empty DataFrame\n",
       "Columns: []\n",
       "Index: []"
      ]
     },
     "execution_count": 12,
     "metadata": {},
     "output_type": "execute_result"
    }
   ],
   "source": [
    "Data_Aggregated_User_Summary_Table.to_csv('Data_Aggregated_User_Summary_Table.csv',index=False) \n",
    "print(len(Data_Aggregated_User_Summary_Table))\n",
    "Data_Aggregated_User_Summary_Table.head(5)"
   ]
  },
  {
   "cell_type": "code",
   "execution_count": 13,
   "id": "c52d1300",
   "metadata": {},
   "outputs": [],
   "source": [
    "Data_Map_Transaction_Table = pd.DataFrame({})"
   ]
  },
  {
   "cell_type": "code",
   "execution_count": 14,
   "id": "446d4db6",
   "metadata": {},
   "outputs": [],
   "source": [
    "def Data_Map_Transaction_Table_Fun(state,year,quarter,path):\n",
    "    global Data_Map_Transaction_Table\n",
    "    dfmt = pd.read_json(path)\n",
    "    DMT_temp=dfmt['data']['hoverDataList'] \n",
    "    if DMT_temp:\n",
    "        for i in DMT_temp:\n",
    "            DMT_row={ 'Place Name':i['name'], 'Total Transactions count':i['metric'][0]['count'], 'Total Amount':i['metric'][0]['amount'],'Quarter':quarter,'Year': year,'State':state}  \n",
    "            Data_Map_Transaction_Table = Data_Map_Transaction_Table.append(DMT_row, ignore_index = True)  \n",
    "            \n",
    "   t_s= r'C:\\Users\\91939\\2MY_DATA_SCIENCE\\12_My_DS_Tasks\\project2_Phonepay\\data\\map\\transaction\\hover\\country\\india\\state'\n",
    "t_path = r'C:\\Users\\91939\\2MY_DATA_SCIENCE\\12_My_DS_Tasks\\project2_Phonepay\\data\\map\\transaction\\hover\\country\\india\\state'\n",
    "t_states = os.listdir(t_path) \n",
    "\n",
    "for i in t_states:\n",
    "    #print(i)\n",
    "    p=t_s+'\\\\'+i\n",
    "    states_year=os.listdir(p)\n",
    "    for j in states_year:\n",
    "        #print(j)\n",
    "        pt=p+'\\\\'+j\n",
    "        f=[]\n",
    "        for (dirpath, dirnames, filenames) in walk(pt):\n",
    "            f.extend(filenames)\n",
    "            break\n",
    "        for k in f:\n",
    "            fp=pt+'\\\\'+k            \n",
    "            fn=Path(fp).stem\n",
    "            #print(i,j,fn)\n",
    "            Data_Map_Transaction_Table_Fun(i,j,fn,fp)\n",
    "            #print(fp)          "
   ]
  },
  {
   "cell_type": "code",
   "execution_count": 17,
   "id": "35f5caa1",
   "metadata": {},
   "outputs": [
    {
     "name": "stdout",
     "output_type": "stream",
     "text": [
      "0\n"
     ]
    },
    {
     "data": {
      "text/html": [
       "<div>\n",
       "<style scoped>\n",
       "    .dataframe tbody tr th:only-of-type {\n",
       "        vertical-align: middle;\n",
       "    }\n",
       "\n",
       "    .dataframe tbody tr th {\n",
       "        vertical-align: top;\n",
       "    }\n",
       "\n",
       "    .dataframe thead th {\n",
       "        text-align: right;\n",
       "    }\n",
       "</style>\n",
       "<table border=\"1\" class=\"dataframe\">\n",
       "  <thead>\n",
       "    <tr style=\"text-align: right;\">\n",
       "      <th></th>\n",
       "    </tr>\n",
       "  </thead>\n",
       "  <tbody>\n",
       "  </tbody>\n",
       "</table>\n",
       "</div>"
      ],
      "text/plain": [
       "Empty DataFrame\n",
       "Columns: []\n",
       "Index: []"
      ]
     },
     "execution_count": 17,
     "metadata": {},
     "output_type": "execute_result"
    }
   ],
   "source": [
    "Data_Map_Transaction_Table.to_csv('Data_Map_Transaction_Table.csv',index=False) \n",
    "print(len(Data_Map_Transaction_Table))\n",
    "Data_Map_Transaction_Table.head(5)"
   ]
  },
  {
   "cell_type": "code",
   "execution_count": 18,
   "id": "97bbe2a1",
   "metadata": {},
   "outputs": [],
   "source": [
    "Data_Map_User_Table = pd.DataFrame({}) "
   ]
  },
  {
   "cell_type": "code",
   "execution_count": 19,
   "id": "48e55e0e",
   "metadata": {},
   "outputs": [],
   "source": [
    "def Data_Map_User_Table_Fun(state,year,quarter,path):\n",
    "    global Data_Map_User_Table\n",
    "    dfmu = pd.read_json(path)\n",
    "    \n",
    "    DMU_temp=dfmu['data']['hoverData'] \n",
    "    if DMU_temp:\n",
    "        for i in DMU_temp:\n",
    "            #print(i, DMU_temp[i]['registeredUsers'],DMU_temp[i]['appOpens'])\n",
    "            DMU_row={ 'Place Name':i, 'Registered Users Count':DMU_temp[i]['registeredUsers'], 'App Openings':DMU_temp[i]['appOpens'],'Quarter':quarter,'Year': year,'State':state}  \n",
    "            Data_Map_User_Table = Data_Map_User_Table.append(DMU_row, ignore_index = True)\n",
    "\n",
    "   t_s= r'C:\\Users\\91939\\2MY_DATA_SCIENCE\\12_My_DS_Tasks\\project2_Phonepay\\data\\map\\user\\hover\\country\\india\\state'\n",
    "t_path = r'C:\\Users\\91939\\2MY_DATA_SCIENCE\\12_My_DS_Tasks\\project2_Phonepay\\data\\map\\user\\hover\\country\\india\\state'\n",
    "t_states = os.listdir(t_path) \n",
    "\n",
    "for i in t_states:\n",
    "    #print(i)\n",
    "    p=t_s+'\\\\'+i\n",
    "    states_year=os.listdir(p)\n",
    "    for j in states_year:\n",
    "        #print(j)\n",
    "        pt=p+'\\\\'+j\n",
    "        f=[]\n",
    "        for (dirpath, dirnames, filenames) in walk(pt):\n",
    "            f.extend(filenames)\n",
    "            break\n",
    "        for k in f:\n",
    "            fp=pt+'\\\\'+k            \n",
    "            fn=Path(fp).stem\n",
    "            #print(i,j,fn)\n",
    "            Data_Map_User_Table_Fun(i,j,fn,fp)\n",
    "            #print(fp) "
   ]
  },
  {
   "cell_type": "code",
   "execution_count": 20,
   "id": "f0a45c37",
   "metadata": {},
   "outputs": [
    {
     "name": "stdout",
     "output_type": "stream",
     "text": [
      "0\n"
     ]
    },
    {
     "data": {
      "text/html": [
       "<div>\n",
       "<style scoped>\n",
       "    .dataframe tbody tr th:only-of-type {\n",
       "        vertical-align: middle;\n",
       "    }\n",
       "\n",
       "    .dataframe tbody tr th {\n",
       "        vertical-align: top;\n",
       "    }\n",
       "\n",
       "    .dataframe thead th {\n",
       "        text-align: right;\n",
       "    }\n",
       "</style>\n",
       "<table border=\"1\" class=\"dataframe\">\n",
       "  <thead>\n",
       "    <tr style=\"text-align: right;\">\n",
       "      <th></th>\n",
       "    </tr>\n",
       "  </thead>\n",
       "  <tbody>\n",
       "  </tbody>\n",
       "</table>\n",
       "</div>"
      ],
      "text/plain": [
       "Empty DataFrame\n",
       "Columns: []\n",
       "Index: []"
      ]
     },
     "execution_count": 20,
     "metadata": {},
     "output_type": "execute_result"
    }
   ],
   "source": [
    "Data_Map_User_Table.to_csv('Data_Map_User_Table.csv',index=False) \n",
    "print(len(Data_Map_User_Table))\n",
    "Data_Map_User_Table.head(5)"
   ]
  },
  {
   "cell_type": "code",
   "execution_count": null,
   "id": "3ff3fef0",
   "metadata": {},
   "outputs": [],
   "source": []
  }
 ],
 "metadata": {
  "kernelspec": {
   "display_name": "Python 3 (ipykernel)",
   "language": "python",
   "name": "python3"
  },
  "language_info": {
   "codemirror_mode": {
    "name": "ipython",
    "version": 3
   },
   "file_extension": ".py",
   "mimetype": "text/x-python",
   "name": "python",
   "nbconvert_exporter": "python",
   "pygments_lexer": "ipython3",
   "version": "3.10.9"
  }
 },
 "nbformat": 4,
 "nbformat_minor": 5
}
